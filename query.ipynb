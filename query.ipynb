{
 "cells": [
  {
   "cell_type": "code",
   "execution_count": 59,
   "metadata": {},
   "outputs": [
    {
     "name": "stderr",
     "output_type": "stream",
     "text": [
      "[nltk_data] Downloading package stopwords to\n",
      "[nltk_data]     C:\\Users\\Renan\\AppData\\Roaming\\nltk_data...\n",
      "[nltk_data]   Package stopwords is already up-to-date!\n"
     ]
    }
   ],
   "source": [
    "import matplotlib.pyplot as plt\n",
    "import pandas as pd\n",
    "import numpy as np\n",
    "import re\n",
    "import nltk\n",
    "from nltk.corpus import stopwords\n",
    "import spacy\n",
    "import string\n",
    "from unidecode import unidecode\n",
    "nltk.download(\"stopwords\")\n",
    "\n",
    "\n",
    "pd.set_option('display.max_colwidth', 200)\n",
    "\n",
    "#carregando arquivo\n",
    "df = pd.read_excel(r\"D:\\Documents\\ESTUDOS\\POS GRADUACAO\\TCC\\base_nps_completa_original.xlsx\")\n",
    "\n",
    "#limpando pesquisas em outro idioma\n",
    "df = df[df['surveyId'] == 'NPS Zendesk Português']\n",
    "#removendo números\n",
    "df['comentario_NPS'] = df['comentario_NPS'].apply(lambda x: re.sub(r'\\d', '', str(x)))\n",
    "#removendo \"\\n\" dos comentários\n",
    "df['comentario_NPS'].replace(\"\\n\", '', inplace = True)\n",
    "#trocando comentários em branco ou sem letras por NONE\n",
    "df['comentario_NPS'] = df['comentario_NPS'].apply(lambda x: x if re.fullmatch(r\".*[a-zA-Z].*\", x) != None else None)\n",
    "df['comentario_NPS'].replace({'', 'NULL','nan'}, None, inplace = True)\n",
    "#filtrando apenas pesquisas com comentários\n",
    "df = df[df['comentario_NPS'].isnull() == False]\n",
    "#transformando tudo em minúsculas\n",
    "df['comentario_NPS'] = df['comentario_NPS'].apply(lambda x: x.lower())\n",
    "#filtrando apenas as colunas necessárias\n",
    "df = df[['metadata_ticket', 'resposta_NPS', 'rqt_tipocliente', 'comentario_NPS']]\n",
    "\n",
    "#separando dataframes por tipo de ticket\n",
    "df_internos = df[df['rqt_tipocliente'] == 'INTERNO']\n",
    "df_externos = df[df['rqt_tipocliente'] != 'INTERNO']"
   ]
  },
  {
   "cell_type": "code",
   "execution_count": 61,
   "metadata": {},
   "outputs": [],
   "source": [
    "#funcao pra remocao de pontos, acentos e stopwords\n",
    "def limpatokens(comentarios):\n",
    "    tks_saida = []\n",
    "    for comentario in comentarios:\n",
    "        tokens = nltk.word_tokenize(comentario, language = 'portuguese')\n",
    "        ptbr_stopwords = stopwords.words('portuguese')\n",
    "        tokens = [t for t in tokens if t not in ptbr_stopwords]\n",
    "        tokens = [t for t in tokens if t not in string.punctuation]\n",
    "        tokens = [unidecode(t) for t in tokens]\n",
    "        tks_saida.append(tokens)\n",
    "    return tks_saida"
   ]
  },
  {
   "cell_type": "code",
   "execution_count": 64,
   "metadata": {},
   "outputs": [],
   "source": [
    "#criando tokens limpos\n",
    "lista_tokens = limpatokens(df['comentario_NPS']) "
   ]
  }
 ],
 "metadata": {
  "kernelspec": {
   "display_name": "Python 3",
   "language": "python",
   "name": "python3"
  },
  "language_info": {
   "codemirror_mode": {
    "name": "ipython",
    "version": 3
   },
   "file_extension": ".py",
   "mimetype": "text/x-python",
   "name": "python",
   "nbconvert_exporter": "python",
   "pygments_lexer": "ipython3",
   "version": "3.11.4"
  },
  "orig_nbformat": 4
 },
 "nbformat": 4,
 "nbformat_minor": 2
}
